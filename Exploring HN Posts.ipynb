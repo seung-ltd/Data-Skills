{
 "cells": [
  {
   "cell_type": "markdown",
   "id": "9394fbbf",
   "metadata": {},
   "source": [
    "# Exploring Hacker News Posts"
   ]
  },
  {
   "cell_type": "markdown",
   "id": "954da162",
   "metadata": {},
   "source": [
    "Setup: Hacker News is a website where user-submitted stories are voted and comment upon, similar to Reddit.\n",
    "\n",
    "Objective: We want to explore the posts to determine if ask HN or show HN posts receive more comments on average. Also, do posts at certain times receive more comments on average?"
   ]
  },
  {
   "cell_type": "markdown",
   "id": "629e4ce3",
   "metadata": {},
   "source": [
    "## Removing Headers from a List of Lists"
   ]
  },
  {
   "cell_type": "code",
   "execution_count": 1,
   "id": "64b580ab",
   "metadata": {},
   "outputs": [
    {
     "name": "stdout",
     "output_type": "stream",
     "text": [
      "[['12224879', 'Interactive Dynamic Video', 'http://www.interactivedynamicvideo.com/', '386', '52', 'ne0phyte', '8/4/2016 11:52'], ['10975351', 'How to Use Open Source and Shut the Fuck Up at the Same Time', 'http://hueniverse.com/2016/01/26/how-to-use-open-source-and-shut-the-fuck-up-at-the-same-time/', '39', '10', 'josep2', '1/26/2016 19:30'], ['11964716', \"Florida DJs May Face Felony for April Fools' Water Joke\", 'http://www.thewire.com/entertainment/2013/04/florida-djs-april-fools-water-joke/63798/', '2', '1', 'vezycash', '6/23/2016 22:20'], ['11919867', 'Technology ventures: From Idea to Enterprise', 'https://www.amazon.com/Technology-Ventures-Enterprise-Thomas-Byers/dp/0073523429', '3', '1', 'hswarna', '6/17/2016 0:01'], ['10301696', 'Note by Note: The Making of Steinway L1037 (2007)', 'http://www.nytimes.com/2007/11/07/movies/07stein.html?_r=0', '8', '2', 'walterbell', '9/30/2015 4:12'], ['10482257', 'Title II kills investment? Comcast and other ISPs are now spending more', 'http://arstechnica.com/business/2015/10/comcast-and-other-isps-boost-network-investment-despite-net-neutrality/', '53', '22', 'Deinos', '10/31/2015 9:48'], ['10557283', 'Nuts and Bolts Business Advice', '', '3', '4', 'shomberj', '11/13/2015 0:45'], ['12296411', 'Ask HN: How to improve my personal website?', '', '2', '6', 'ahmedbaracat', '8/16/2016 9:55'], ['11337617', 'Shims, Jigs and Other Woodworking Concepts to Conquer Technical Debt', 'http://firstround.com/review/shims-jigs-and-other-woodworking-concepts-to-conquer-technical-debt/', '34', '7', 'zt', '3/22/2016 16:18'], ['10379326', 'That self-appendectomy', 'http://www.southpolestation.com/trivia/igy1/appendix.html', '91', '10', 'jimsojim', '10/13/2015 9:30']]\n"
     ]
    }
   ],
   "source": [
    "from csv import reader\n",
    "import datetime as dt\n",
    "\n",
    "hn = open('hacker_news.csv')\n",
    "hn = list(reader(hn))\n",
    "headers = hn[0]\n",
    "hn = hn[1:]\n",
    "print(hn[:10])"
   ]
  },
  {
   "cell_type": "markdown",
   "id": "27227e58",
   "metadata": {},
   "source": [
    "## Extracting Ask HN and Show HN Posts"
   ]
  },
  {
   "cell_type": "code",
   "execution_count": 2,
   "id": "cf0439ea",
   "metadata": {},
   "outputs": [
    {
     "name": "stdout",
     "output_type": "stream",
     "text": [
      "1738\n",
      "1162\n",
      "17200\n"
     ]
    }
   ],
   "source": [
    "ask_posts =[]\n",
    "show_posts = []\n",
    "other_posts = []\n",
    "for row in hn:\n",
    "    post = row[1]\n",
    "    post = post.split(':')\n",
    "    post_handle = post[0].lower()\n",
    "    if post_handle == 'ask hn':\n",
    "        ask_posts.append(row)\n",
    "    elif post_handle == 'show hn':\n",
    "        show_posts.append(row)\n",
    "    else: \n",
    "        other_posts.append(row)\n",
    "\n",
    "print(len(ask_posts))\n",
    "print(len(show_posts))\n",
    "print(len(other_posts))"
   ]
  },
  {
   "cell_type": "markdown",
   "id": "0e21b5e9",
   "metadata": {},
   "source": [
    "## Calculating the Average Number of Comments for Ask HN and Show HN Posts"
   ]
  },
  {
   "cell_type": "code",
   "execution_count": 3,
   "id": "4789867f",
   "metadata": {},
   "outputs": [
    {
     "name": "stdout",
     "output_type": "stream",
     "text": [
      "14.06674338319908\n",
      "10.31669535283993\n"
     ]
    }
   ],
   "source": [
    "index_num_comments = headers.index('num_comments')\n",
    "\n",
    "ask_num_comments = []\n",
    "for row in ask_posts:\n",
    "    ask_num_comments.append(float(row[index_num_comments]))\n",
    "avg_ask_num_comments  = sum(ask_num_comments)/len(ask_num_comments)\n",
    "\n",
    "show_num_comments = []\n",
    "for row in show_posts:\n",
    "    show_num_comments.append(float(row[index_num_comments]))\n",
    "avg_show_num_comments  = sum(show_num_comments)/len(show_num_comments)\n",
    "\n",
    "print(avg_ask_num_comments)\n",
    "print(avg_show_num_comments)"
   ]
  },
  {
   "cell_type": "markdown",
   "id": "ab6beb83",
   "metadata": {},
   "source": [
    "## Finding the Amount of Ask Posts and Comments by Hour Created"
   ]
  },
  {
   "cell_type": "code",
   "execution_count": 4,
   "id": "d32b2019",
   "metadata": {},
   "outputs": [
    {
     "name": "stdout",
     "output_type": "stream",
     "text": [
      "{0: 54, 1: 59, 2: 58}\n",
      "{0: 443.0, 1: 662.0, 2: 1381.0}\n"
     ]
    }
   ],
   "source": [
    "posts_per_hour = {}\n",
    "comments_per_hour = {}\n",
    "for row in ask_posts:\n",
    "    date = dt.datetime.strptime(row[-1], '%m/%d/%Y %H:%M')\n",
    "    hour = date.hour\n",
    "    if hour in posts_per_hour:\n",
    "        posts_per_hour[hour] +=1\n",
    "        comments_per_hour[hour] += float(row[4])\n",
    "    else:\n",
    "        posts_per_hour[hour] = 1\n",
    "        comments_per_hour[hour] = float(row[4])\n",
    "posts_per_hour = dict(sorted(posts_per_hour.items()))\n",
    "comments_per_hour = dict(sorted(comments_per_hour.items()))\n",
    "\n",
    "import itertools\n",
    "def glance(d):\n",
    "    return dict(itertools.islice(d.items(), 3))\n",
    "print(glance(posts_per_hour))\n",
    "print(glance(comments_per_hour))"
   ]
  },
  {
   "cell_type": "markdown",
   "id": "ef136a56",
   "metadata": {},
   "source": [
    "## Calculating the Average Number of Comments for Ask HN Posts by Hour"
   ]
  },
  {
   "cell_type": "code",
   "execution_count": 5,
   "id": "05294a2d",
   "metadata": {},
   "outputs": [
    {
     "name": "stdout",
     "output_type": "stream",
     "text": [
      "{0: 8.203703703703704, 1: 11.220338983050848, 2: 23.810344827586206}\n"
     ]
    }
   ],
   "source": [
    "avg_comments_per_hour = {}\n",
    "for key in posts_per_hour.keys():\n",
    "    avg_comments_per_hour[key] = comments_per_hour[key]/posts_per_hour[key]\n",
    "\n",
    "print(glance(avg_comments_per_hour))"
   ]
  },
  {
   "cell_type": "markdown",
   "id": "92097e9d",
   "metadata": {},
   "source": [
    "## Sorting and Printing Values from a List of Lists"
   ]
  },
  {
   "cell_type": "code",
   "execution_count": 6,
   "id": "76775644",
   "metadata": {},
   "outputs": [
    {
     "name": "stdout",
     "output_type": "stream",
     "text": [
      "15: 38.59 comments per hour\n",
      "2: 23.81 comments per hour\n",
      "20: 21.52 comments per hour\n",
      "16: 17.08 comments per hour\n",
      "21: 16.01 comments per hour\n",
      "13: 14.74 comments per hour\n",
      "10: 13.44 comments per hour\n",
      "14: 13.23 comments per hour\n",
      "18: 13.20 comments per hour\n",
      "17: 11.55 comments per hour\n",
      "1: 11.22 comments per hour\n",
      "11: 11.05 comments per hour\n",
      "19: 10.86 comments per hour\n",
      "8: 10.25 comments per hour\n",
      "5: 10.09 comments per hour\n",
      "12: 9.41 comments per hour\n",
      "6: 9.02 comments per hour\n",
      "0: 8.20 comments per hour\n",
      "23: 7.99 comments per hour\n",
      "7: 7.85 comments per hour\n",
      "3: 7.80 comments per hour\n",
      "4: 7.17 comments per hour\n",
      "22: 6.75 comments per hour\n",
      "9: 5.58 comments per hour\n"
     ]
    }
   ],
   "source": [
    "avg_comments_per_hour_swap_keyValue = {value:key for key, value in avg_comments_per_hour.items()}\n",
    "avg_comments_per_hour_swap_keyValue = dict(sorted(avg_comments_per_hour_swap_keyValue.items(), reverse = True))\n",
    "for key, value in avg_comments_per_hour_swap_keyValue.items():\n",
    "    print(f'{value}: {key:.2f} comments per hour')"
   ]
  },
  {
   "cell_type": "code",
   "execution_count": null,
   "id": "fe06766d",
   "metadata": {},
   "outputs": [],
   "source": []
  }
 ],
 "metadata": {
  "kernelspec": {
   "display_name": "Python 3 (ipykernel)",
   "language": "python",
   "name": "python3"
  },
  "language_info": {
   "codemirror_mode": {
    "name": "ipython",
    "version": 3
   },
   "file_extension": ".py",
   "mimetype": "text/x-python",
   "name": "python",
   "nbconvert_exporter": "python",
   "pygments_lexer": "ipython3",
   "version": "3.11.4"
  }
 },
 "nbformat": 4,
 "nbformat_minor": 5
}
